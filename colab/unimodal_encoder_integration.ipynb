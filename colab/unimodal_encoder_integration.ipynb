{
 "cells": [
  {
   "cell_type": "markdown",
   "id": "94280cee",
   "metadata": {},
   "source": [
    "# Load data\n",
    "# Load frozen pretrained tabnet\n",
    "# Load frozen BM-MAE\n",
    "# Connect encoders to classification layers\n",
    "# fine-tune classifcation layer on data"
   ]
  },
  {
   "cell_type": "code",
   "execution_count": null,
   "id": "3d339da7",
   "metadata": {},
   "outputs": [],
   "source": []
  }
 ],
 "metadata": {
  "language_info": {
   "name": "python"
  }
 },
 "nbformat": 4,
 "nbformat_minor": 5
}
